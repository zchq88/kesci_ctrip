{
 "cells": [
  {
   "cell_type": "code",
   "execution_count": 1,
   "metadata": {
    "collapsed": false
   },
   "outputs": [
    {
     "name": "stdout",
     "output_type": "stream",
     "text": [
      "ctrip.ipynb  product_info.txt  product_quantity.txt  submit.txt\r\n"
     ]
    }
   ],
   "source": [
    "ls \\"
   ]
  },
  {
   "cell_type": "code",
   "execution_count": 2,
   "metadata": {
    "collapsed": false
   },
   "outputs": [],
   "source": [
    "#导入相关库\n",
    "#导入相关库\n",
    "import pandas as pd\n",
    "import numpy as np\n",
    "import matplotlib.pyplot as plt\n",
    "import tensorflow as tf\n",
    "from datetime import datetime \n",
    "import sys\n",
    "%matplotlib inline"
   ]
  },
  {
   "cell_type": "code",
   "execution_count": 3,
   "metadata": {
    "collapsed": false
   },
   "outputs": [],
   "source": [
    "#读取数据\n",
    "evaluation=pd.read_csv('submit.txt')\n",
    "product_info=pd.read_csv('product_info.txt')\n",
    "product_quantity=pd.read_csv('product_quantity.txt')"
   ]
  },
  {
   "cell_type": "code",
   "execution_count": 4,
   "metadata": {
    "collapsed": false
   },
   "outputs": [
    {
     "name": "stdout",
     "output_type": "stream",
     "text": [
      "(56000, 3)\n",
      "(4000, 22)\n",
      "(1959676, 9)\n"
     ]
    }
   ],
   "source": [
    "#显示数据尺寸\n",
    "print(evaluation.shape)\n",
    "print(product_info.shape)\n",
    "print(product_quantity.shape)"
   ]
  },
  {
   "cell_type": "code",
   "execution_count": 5,
   "metadata": {
    "collapsed": false
   },
   "outputs": [
    {
     "data": {
      "text/html": [
       "<div>\n",
       "<table border=\"1\" class=\"dataframe\">\n",
       "  <thead>\n",
       "    <tr style=\"text-align: right;\">\n",
       "      <th></th>\n",
       "      <th>product_id</th>\n",
       "      <th>product_month</th>\n",
       "      <th>ciiquantity_month</th>\n",
       "    </tr>\n",
       "  </thead>\n",
       "  <tbody>\n",
       "    <tr>\n",
       "      <th>0</th>\n",
       "      <td>1</td>\n",
       "      <td>2015-12-01</td>\n",
       "      <td>100</td>\n",
       "    </tr>\n",
       "  </tbody>\n",
       "</table>\n",
       "</div>"
      ],
      "text/plain": [
       "   product_id product_month  ciiquantity_month\n",
       "0           1    2015-12-01                100"
      ]
     },
     "execution_count": 5,
     "metadata": {},
     "output_type": "execute_result"
    }
   ],
   "source": [
    "evaluation.head(1)"
   ]
  },
  {
   "cell_type": "code",
   "execution_count": 6,
   "metadata": {
    "collapsed": false
   },
   "outputs": [
    {
     "data": {
      "text/html": [
       "<div>\n",
       "<table border=\"1\" class=\"dataframe\">\n",
       "  <thead>\n",
       "    <tr style=\"text-align: right;\">\n",
       "      <th></th>\n",
       "      <th>product_id</th>\n",
       "      <th>district_id1</th>\n",
       "      <th>district_id2</th>\n",
       "      <th>district_id3</th>\n",
       "      <th>district_id4</th>\n",
       "      <th>lat</th>\n",
       "      <th>lon</th>\n",
       "      <th>railway</th>\n",
       "      <th>airport</th>\n",
       "      <th>citycenter</th>\n",
       "      <th>...</th>\n",
       "      <th>citycenter2</th>\n",
       "      <th>eval</th>\n",
       "      <th>eval2</th>\n",
       "      <th>eval3</th>\n",
       "      <th>eval4</th>\n",
       "      <th>voters</th>\n",
       "      <th>startdate</th>\n",
       "      <th>upgradedate</th>\n",
       "      <th>cooperatedate</th>\n",
       "      <th>maxstock</th>\n",
       "    </tr>\n",
       "  </thead>\n",
       "  <tbody>\n",
       "    <tr>\n",
       "      <th>0</th>\n",
       "      <td>1</td>\n",
       "      <td>10201</td>\n",
       "      <td>20502</td>\n",
       "      <td>31003</td>\n",
       "      <td>45760</td>\n",
       "      <td>3.994928</td>\n",
       "      <td>11.63463</td>\n",
       "      <td>-1.0</td>\n",
       "      <td>-1.0</td>\n",
       "      <td>-1.0</td>\n",
       "      <td>...</td>\n",
       "      <td>-1.0</td>\n",
       "      <td>3.0</td>\n",
       "      <td>5</td>\n",
       "      <td>2.0</td>\n",
       "      <td>3.1</td>\n",
       "      <td>1034.0</td>\n",
       "      <td>2005-11-01</td>\n",
       "      <td>2015-01-01</td>\n",
       "      <td>2013-07-02</td>\n",
       "      <td>75.0</td>\n",
       "    </tr>\n",
       "  </tbody>\n",
       "</table>\n",
       "<p>1 rows × 22 columns</p>\n",
       "</div>"
      ],
      "text/plain": [
       "   product_id  district_id1  district_id2  district_id3  district_id4  \\\n",
       "0           1         10201         20502         31003         45760   \n",
       "\n",
       "        lat       lon  railway  airport  citycenter   ...     citycenter2  \\\n",
       "0  3.994928  11.63463     -1.0     -1.0        -1.0   ...            -1.0   \n",
       "\n",
       "   eval  eval2  eval3  eval4  voters   startdate  upgradedate cooperatedate  \\\n",
       "0   3.0      5    2.0    3.1  1034.0  2005-11-01   2015-01-01    2013-07-02   \n",
       "\n",
       "  maxstock  \n",
       "0     75.0  \n",
       "\n",
       "[1 rows x 22 columns]"
      ]
     },
     "execution_count": 6,
     "metadata": {},
     "output_type": "execute_result"
    }
   ],
   "source": [
    "product_info.head(1)"
   ]
  },
  {
   "cell_type": "code",
   "execution_count": 7,
   "metadata": {
    "collapsed": false
   },
   "outputs": [
    {
     "data": {
      "text/html": [
       "<div>\n",
       "<table border=\"1\" class=\"dataframe\">\n",
       "  <thead>\n",
       "    <tr style=\"text-align: right;\">\n",
       "      <th></th>\n",
       "      <th>product_id</th>\n",
       "      <th>product_date</th>\n",
       "      <th>orderattribute1</th>\n",
       "      <th>orderattribute2</th>\n",
       "      <th>orderattribute3</th>\n",
       "      <th>orderattribute4</th>\n",
       "      <th>ciiquantity</th>\n",
       "      <th>ordquantity</th>\n",
       "      <th>price</th>\n",
       "    </tr>\n",
       "  </thead>\n",
       "  <tbody>\n",
       "    <tr>\n",
       "      <th>0</th>\n",
       "      <td>1</td>\n",
       "      <td>2014-06-21</td>\n",
       "      <td>2</td>\n",
       "      <td>1</td>\n",
       "      <td>1</td>\n",
       "      <td>1</td>\n",
       "      <td>0</td>\n",
       "      <td>1</td>\n",
       "      <td>-1</td>\n",
       "    </tr>\n",
       "  </tbody>\n",
       "</table>\n",
       "</div>"
      ],
      "text/plain": [
       "   product_id product_date  orderattribute1  orderattribute2  orderattribute3  \\\n",
       "0           1   2014-06-21                2                1                1   \n",
       "\n",
       "   orderattribute4  ciiquantity  ordquantity  price  \n",
       "0                1            0            1     -1  "
      ]
     },
     "execution_count": 7,
     "metadata": {},
     "output_type": "execute_result"
    }
   ],
   "source": [
    "product_quantity.head(1)"
   ]
  },
  {
   "cell_type": "markdown",
   "metadata": {},
   "source": [
    "# 以上数据导入完成\n",
    "# ————————————————————————————————————"
   ]
  },
  {
   "cell_type": "code",
   "execution_count": 8,
   "metadata": {
    "collapsed": false
   },
   "outputs": [
    {
     "data": {
      "text/html": [
       "<div>\n",
       "<table border=\"1\" class=\"dataframe\">\n",
       "  <thead>\n",
       "    <tr style=\"text-align: right;\">\n",
       "      <th></th>\n",
       "      <th>ciiquantity</th>\n",
       "      <th>product_date</th>\n",
       "      <th>product_id</th>\n",
       "    </tr>\n",
       "  </thead>\n",
       "  <tbody>\n",
       "    <tr>\n",
       "      <th>27</th>\n",
       "      <td>0</td>\n",
       "      <td>2014-01-01</td>\n",
       "      <td>1</td>\n",
       "    </tr>\n",
       "  </tbody>\n",
       "</table>\n",
       "</div>"
      ],
      "text/plain": [
       "    ciiquantity product_date  product_id\n",
       "27            0   2014-01-01           1"
      ]
     },
     "execution_count": 8,
     "metadata": {},
     "output_type": "execute_result"
    }
   ],
   "source": [
    "train_day=pd.DataFrame({'product_id':product_quantity.product_id,'ciiquantity':product_quantity.ciiquantity,'product_date':product_quantity.product_date,})\n",
    "train_day=train_day.sort_values(by =['product_id','product_date'])\n",
    "train_day[0:1]"
   ]
  },
  {
   "cell_type": "code",
   "execution_count": 9,
   "metadata": {
    "collapsed": false
   },
   "outputs": [
    {
     "data": {
      "image/png": "[encoded data removed]",
      "text/plain": [
       "<matplotlib.figure.Figure at 0x7fe91d65dba8>"
      ]
     },
     "metadata": {},
     "output_type": "display_data"
    },
    {
     "data": {
      "image/png": "[encoded data removed]",
      "text/plain": [
       "<matplotlib.figure.Figure at 0x7fe91d68f9e8>"
      ]
     },
     "metadata": {},
     "output_type": "display_data"
    }
   ],
   "source": [
    "for i in range(2):\n",
    "    train_day[train_day['product_id']==i+1].plot(x='product_date', y='ciiquantity',figsize=(15,6))"
   ]
  },
  {
   "cell_type": "code",
   "execution_count": 10,
   "metadata": {
    "collapsed": false
   },
   "outputs": [
    {
     "data": {
      "text/html": [
       "<div>\n",
       "<table border=\"1\" class=\"dataframe\">\n",
       "  <thead>\n",
       "    <tr style=\"text-align: right;\">\n",
       "      <th></th>\n",
       "      <th>ciiquantity</th>\n",
       "      <th>product_id</th>\n",
       "      <th>week_1</th>\n",
       "      <th>week_2</th>\n",
       "      <th>week_3</th>\n",
       "      <th>week_4</th>\n",
       "      <th>week_5</th>\n",
       "      <th>week_6</th>\n",
       "      <th>week_7</th>\n",
       "    </tr>\n",
       "  </thead>\n",
       "  <tbody>\n",
       "    <tr>\n",
       "      <th>1335378</th>\n",
       "      <td>3</td>\n",
       "      <td>1</td>\n",
       "      <td>0</td>\n",
       "      <td>0</td>\n",
       "      <td>0</td>\n",
       "      <td>0</td>\n",
       "      <td>0</td>\n",
       "      <td>0</td>\n",
       "      <td>1</td>\n",
       "    </tr>\n",
       "  </tbody>\n",
       "</table>\n",
       "</div>"
      ],
      "text/plain": [
       "         ciiquantity  product_id  week_1  week_2  week_3  week_4  week_5  \\\n",
       "1335378            3           1       0       0       0       0       0   \n",
       "\n",
       "         week_6  week_7  \n",
       "1335378       0       1  "
      ]
     },
     "execution_count": 10,
     "metadata": {},
     "output_type": "execute_result"
    }
   ],
   "source": [
    "pd.options.mode.chained_assignment = None #禁止SettingWithCopyWarning 警告\n",
    "Ttrain_day=train_day[800:900]\n",
    "def getweek(product_date):\n",
    "    yyyy=int(product_date[0:4])\n",
    "    mm=int(product_date[5:7])\n",
    "    dd=int(product_date[8:10])\n",
    "    return datetime(yyyy,mm,dd).weekday()+1\n",
    "\n",
    "def addweekday(table):\n",
    "    table['week']=table['product_date'].apply(getweek)\n",
    "    dummies = pd.get_dummies(table['week'], prefix='week', drop_first=False)\n",
    "    table = pd.concat([table, dummies], axis=1)\n",
    "    table = table.drop('week', axis=1)\n",
    "    table = table.drop('product_date', axis=1)\n",
    "    return table\n",
    "Ttrain_day=addweekday(Ttrain_day)\n",
    "Ttrain_day[0:1]"
   ]
  },
  {
   "cell_type": "code",
   "execution_count": 11,
   "metadata": {
    "collapsed": false
   },
   "outputs": [
    {
     "data": {
      "text/html": [
       "<div>\n",
       "<table border=\"1\" class=\"dataframe\">\n",
       "  <thead>\n",
       "    <tr style=\"text-align: right;\">\n",
       "      <th></th>\n",
       "      <th>ciiquantity</th>\n",
       "      <th>product_id</th>\n",
       "      <th>week_1</th>\n",
       "      <th>week_2</th>\n",
       "      <th>week_3</th>\n",
       "      <th>week_4</th>\n",
       "      <th>week_5</th>\n",
       "      <th>week_6</th>\n",
       "      <th>week_7</th>\n",
       "    </tr>\n",
       "  </thead>\n",
       "  <tbody>\n",
       "    <tr>\n",
       "      <th>1335378</th>\n",
       "      <td>3</td>\n",
       "      <td>1</td>\n",
       "      <td>0</td>\n",
       "      <td>0</td>\n",
       "      <td>0</td>\n",
       "      <td>0</td>\n",
       "      <td>0</td>\n",
       "      <td>0</td>\n",
       "      <td>1</td>\n",
       "    </tr>\n",
       "  </tbody>\n",
       "</table>\n",
       "</div>"
      ],
      "text/plain": [
       "         ciiquantity  product_id  week_1  week_2  week_3  week_4  week_5  \\\n",
       "1335378            3           1       0       0       0       0       0   \n",
       "\n",
       "         week_6  week_7  \n",
       "1335378       0       1  "
      ]
     },
     "execution_count": 11,
     "metadata": {},
     "output_type": "execute_result"
    }
   ],
   "source": [
    "pd.options.mode.chained_assignment = None #禁止SettingWithCopyWarning 警告\n",
    "Ttrain_day=train_day[800:900]\n",
    "def getweek(product_date):\n",
    "    yyyy=int(product_date[0:4])\n",
    "    mm=int(product_date[5:7])\n",
    "    dd=int(product_date[8:10])\n",
    "    return datetime(yyyy,mm,dd).weekday()+1\n",
    "\n",
    "def addweekday(table):\n",
    "    table['week']=table['product_date'].apply(getweek)\n",
    "    dummies = pd.get_dummies(table['week'], prefix='week', drop_first=False)\n",
    "    table = pd.concat([table, dummies], axis=1)\n",
    "    table = table.drop('week', axis=1)\n",
    "    table = table.drop('product_date', axis=1)\n",
    "    return table\n",
    "Ttrain_day=addweekday(Ttrain_day)\n",
    "Ttrain_day[0:1]"
   ]
  },
  {
   "cell_type": "code",
   "execution_count": 12,
   "metadata": {
    "collapsed": false
   },
   "outputs": [
    {
     "data": {
      "text/html": [
       "<div>\n",
       "<table border=\"1\" class=\"dataframe\">\n",
       "  <thead>\n",
       "    <tr style=\"text-align: right;\">\n",
       "      <th></th>\n",
       "      <th>ciiquantity</th>\n",
       "      <th>week_1</th>\n",
       "      <th>week_3</th>\n",
       "      <th>eval</th>\n",
       "      <th>eval2</th>\n",
       "      <th>eval3</th>\n",
       "      <th>eval4</th>\n",
       "      <th>voters</th>\n",
       "      <th>maxstock</th>\n",
       "    </tr>\n",
       "  </thead>\n",
       "  <tbody>\n",
       "    <tr>\n",
       "      <th>1335373</th>\n",
       "      <td>1</td>\n",
       "      <td>1</td>\n",
       "      <td>0</td>\n",
       "      <td>3.0</td>\n",
       "      <td>5.0</td>\n",
       "      <td>2.0</td>\n",
       "      <td>3.1</td>\n",
       "      <td>1034.0</td>\n",
       "      <td>75.0</td>\n",
       "    </tr>\n",
       "    <tr>\n",
       "      <th>466</th>\n",
       "      <td>0</td>\n",
       "      <td>0</td>\n",
       "      <td>1</td>\n",
       "      <td>3.0</td>\n",
       "      <td>4.0</td>\n",
       "      <td>2.0</td>\n",
       "      <td>3.4</td>\n",
       "      <td>1707.0</td>\n",
       "      <td>172.0</td>\n",
       "    </tr>\n",
       "  </tbody>\n",
       "</table>\n",
       "</div>"
      ],
      "text/plain": [
       "         ciiquantity  week_1  week_3  eval  eval2  eval3  eval4  voters  \\\n",
       "1335373            1       1       0   3.0    5.0    2.0    3.1  1034.0   \n",
       "466                0       0       1   3.0    4.0    2.0    3.4  1707.0   \n",
       "\n",
       "         maxstock  \n",
       "1335373      75.0  \n",
       "466         172.0  "
      ]
     },
     "execution_count": 12,
     "metadata": {},
     "output_type": "execute_result"
    }
   ],
   "source": [
    "Ttrain_day=train_day[800:850]\n",
    "Ttrain_day=train_day[885:887]\n",
    "#Ttrain_day=train_day[900:1000]\n",
    "Ttrain_day=addweekday(Ttrain_day)\n",
    "features=['eval','eval2','eval3','eval4','voters','maxstock']\n",
    "def addfeature(table,features):\n",
    "    for feature in features:        \n",
    "        table[feature]=table['product_id'].apply(lambda x: float(product_info[product_info.product_id==x][feature].as_matrix()[0]) )\n",
    "    table=table.drop('product_id', axis=1)\n",
    "    return table\n",
    "Ttrain_day=addfeature(Ttrain_day,features)\n",
    "Ttrain_day"
   ]
  },
  {
   "cell_type": "code",
   "execution_count": 13,
   "metadata": {
    "collapsed": false
   },
   "outputs": [
    {
     "data": {
      "text/html": [
       "<div>\n",
       "<table border=\"1\" class=\"dataframe\">\n",
       "  <thead>\n",
       "    <tr style=\"text-align: right;\">\n",
       "      <th></th>\n",
       "      <th>ciiquantity</th>\n",
       "      <th>week_1</th>\n",
       "      <th>week_3</th>\n",
       "      <th>eval</th>\n",
       "      <th>eval2</th>\n",
       "      <th>eval3</th>\n",
       "      <th>eval4</th>\n",
       "      <th>voters</th>\n",
       "      <th>maxstock</th>\n",
       "    </tr>\n",
       "  </thead>\n",
       "  <tbody>\n",
       "    <tr>\n",
       "      <th>1335373</th>\n",
       "      <td>1</td>\n",
       "      <td>1</td>\n",
       "      <td>0</td>\n",
       "      <td>-0.800491</td>\n",
       "      <td>0.261345</td>\n",
       "      <td>-0.712015</td>\n",
       "      <td>-0.830884</td>\n",
       "      <td>-0.266098</td>\n",
       "      <td>-0.529165</td>\n",
       "    </tr>\n",
       "  </tbody>\n",
       "</table>\n",
       "</div>"
      ],
      "text/plain": [
       "         ciiquantity  week_1  week_3      eval     eval2     eval3     eval4  \\\n",
       "1335373            1       1       0 -0.800491  0.261345 -0.712015 -0.830884   \n",
       "\n",
       "           voters  maxstock  \n",
       "1335373 -0.266098 -0.529165  "
      ]
     },
     "execution_count": 13,
     "metadata": {},
     "output_type": "execute_result"
    }
   ],
   "source": [
    "def Scalingfeature(table,features):\n",
    "    for feature in features:\n",
    "        mean, std = product_info[feature].mean(), product_info[feature].std()\n",
    "        table.loc[:, feature] = (table[feature] - mean)/std\n",
    "    return table\n",
    "Ttrain_day=Scalingfeature(Ttrain_day,features)\n",
    "Ttrain_day[0:1]"
   ]
  },
  {
   "cell_type": "code",
   "execution_count": 14,
   "metadata": {
    "collapsed": false
   },
   "outputs": [
    {
     "data": {
      "text/plain": [
       "(array([[ 1.        , -0.80049081,  0.26134466, -0.71201506, -0.83088377,\n",
       "         -0.2660979 , -0.52916452]]), array([[0]]))"
      ]
     },
     "execution_count": 14,
     "metadata": {},
     "output_type": "execute_result"
    }
   ],
   "source": [
    "def cut_train_data(start,end):\n",
    "    Mytrain_day=train_day[start:end]\n",
    "    #Mytrain_day=train_day.take(np.random.permutation(len(train_day))[:k])\n",
    "    features=['eval','eval2','eval3','eval4','voters','maxstock']\n",
    "    Mytrain_day=addweekday(Mytrain_day)\n",
    "    Mytrain_day=addfeature(Mytrain_day,features)\n",
    "    Mytrain_day=Scalingfeature(Mytrain_day,features)\n",
    "    features = Mytrain_day.drop('ciiquantity',axis=1)\n",
    "    targets = Mytrain_day['ciiquantity']\n",
    "    Myfeatures=features.as_matrix()\n",
    "    Mytargets=targets.as_matrix()\n",
    "    Mytargets.shape[0]\n",
    "    Mytargets.shape = (Mytargets.shape[0], 1)\n",
    "    Mytargets.transpose()\n",
    "    return Myfeatures,Mytargets\n",
    "tf_features,tf_targets = cut_train_data(0,1)\n",
    "tf_features,tf_targets"
   ]
  },
  {
   "cell_type": "code",
   "execution_count": 15,
   "metadata": {
    "collapsed": false
   },
   "outputs": [
    {
     "name": "stdout",
     "output_type": "stream",
     "text": [
      "0:00:00.074477\n"
     ]
    },
    {
     "data": {
      "text/plain": [
       "(array([[ 1.        ,  1.16813092,  1.66926205,  1.24380161, -0.35105484,\n",
       "          2.67668498,  0.87636409]]), array([[0]]))"
      ]
     },
     "execution_count": 15,
     "metadata": {},
     "output_type": "execute_result"
    }
   ],
   "source": [
    "def random_cut_train_data(k):    \n",
    "    Mytrain_day=train_day.take(np.random.permutation(len(train_day))[:k])\n",
    "    features=['eval','eval2','eval3','eval4','voters','maxstock']\n",
    "    Mytrain_day=addweekday(Mytrain_day)\n",
    "    Mytrain_day=addfeature(Mytrain_day,features)\n",
    "    Mytrain_day=Scalingfeature(Mytrain_day,features)\n",
    "    features = Mytrain_day.drop('ciiquantity',axis=1)\n",
    "    targets = Mytrain_day['ciiquantity']\n",
    "    Myfeatures=features.as_matrix()\n",
    "    Mytargets=targets.as_matrix()\n",
    "    Mytargets.shape[0]\n",
    "    Mytargets.shape = (Mytargets.shape[0], 1)\n",
    "    Mytargets.transpose()\n",
    "    return Myfeatures,Mytargets\n",
    "start = datetime.now()\n",
    "tf_features,tf_targets = random_cut_train_data(1)\n",
    "end = datetime.now()\n",
    "print(end-start)\n",
    "tf_features,tf_targets"
   ]
  },
  {
   "cell_type": "code",
   "execution_count": 20,
   "metadata": {
    "collapsed": true
   },
   "outputs": [],
   "source": [
    "def add_layer(inputs, in_size, out_size, activation_function=None):    \n",
    "    Weights = tf.Variable(tf.random_normal([in_size, out_size]))\n",
    "    biases = tf.Variable(tf.zeros([1, out_size]) + 0.1)\n",
    "    Wx_plus_b = tf.matmul(inputs, Weights) + biases\n",
    "    if activation_function is None:\n",
    "        outputs = Wx_plus_b\n",
    "    else:\n",
    "        outputs = activation_function(Wx_plus_b)\n",
    "    return outputs\n",
    "in_shape=13\n",
    "epochs=100\n",
    "batch=1000\n",
    "l_r=0.01\n",
    "x = tf.placeholder(tf.float32, shape=[None, in_shape])\n",
    "y = tf.placeholder(tf.float32, [None,1])\n",
    "l1 = add_layer(x, in_shape, 7, activation_function=tf.nn.sigmoid)\n",
    "prediction = add_layer(l1, 7, 1, activation_function=None)\n",
    "\n",
    "loss = tf.reduce_mean(tf.reduce_sum(tf.square(y - prediction),\n",
    "                     reduction_indices=[1]))\n",
    "train_step = tf.train.GradientDescentOptimizer(l_r).minimize(loss)"
   ]
  },
  {
   "cell_type": "code",
   "execution_count": 21,
   "metadata": {
    "collapsed": false
   },
   "outputs": [
    {
     "name": "stdout",
     "output_type": "stream",
     "text": [
      "Epoch 100 Loss: 82.9012 time: 0:00:04.731974"
     ]
    }
   ],
   "source": [
    "sess = tf.Session()\n",
    "sess.run(tf.global_variables_initializer())    \n",
    "    # Training cycle\n",
    "for epoch in range(epochs):\n",
    "    start = datetime.now()\n",
    "    #tf_features,tf_targets = cut_train_data(epoch*1000,(epoch+1)*1000)\n",
    "    tf_features,tf_targets = random_cut_train_data(batch)\n",
    "    sess.run(train_step, feed_dict={x: tf_features, y: tf_targets})\n",
    "    temploss = sess.run(loss, feed_dict={x: tf_features, y: tf_targets})\n",
    "    end = datetime.now()\n",
    "    sys.stdout.write('\\rEpoch {:>2} Loss: {:.4f} time: {}'.format(epoch + 1,temploss,end-start))"
   ]
  },
  {
   "cell_type": "code",
   "execution_count": null,
   "metadata": {
    "collapsed": false
   },
   "outputs": [
    {
     "name": "stdout",
     "output_type": "stream",
     "text": [
      "115.324\n",
      "i:701/56000 ciiquantity month:157.3611602783203 time:0:00:16.413177"
     ]
    }
   ],
   "source": [
    "import calendar\n",
    "def get_evaluation(x):\n",
    "    _date=evaluation[evaluation.index==x].product_month.as_matrix()[0]\n",
    "    _id=evaluation[evaluation.index==x].product_id.as_matrix()[0]\n",
    "    _yyyy=int(_date[0:4])\n",
    "    _mm=int(_date[5:7])\n",
    "    _days=calendar.monthrange(_yyyy,_mm)[1]\n",
    "    _table=pd.DataFrame({'product_date':range(_days)})\n",
    "    _table['product_date']=_table['product_date'].apply(lambda x:_date[0:8]+str(x+1).zfill(2))\n",
    "    _table['product_id']=_id\n",
    "    _features=['eval','eval2','eval3','eval4','voters','maxstock']\n",
    "    _table=addweekday(_table)\n",
    "    _table=addfeature(_table,_features)\n",
    "    _table=Scalingfeature(_table,_features)\n",
    "    _table=_table.as_matrix()\n",
    "    return _table\n",
    "y_array=np.sum(sess.run(prediction, feed_dict={x: get_evaluation(0)}))\n",
    "print(y_array)\n",
    "ciiquantity_month=np.zeros(evaluation.shape[0])\n",
    "#'''\n",
    "start = datetime.now()\n",
    "for i in range(evaluation.shape[0]):\n",
    "#for i in range(1000):    \n",
    "    month_data=get_evaluation(i)\n",
    "    month_data_sum=np.sum(sess.run(prediction, feed_dict={x: month_data}))\n",
    "    ciiquantity_month[i]=month_data_sum\n",
    "    if i % 100 == 0:\n",
    "        end = datetime.now()        \n",
    "        sys.stdout.write('\\ri:{}/{} ciiquantity month:{} time:{}'.format(i+1,evaluation.shape[0],month_data_sum,end-start))\n",
    "        start = datetime.now()\n",
    "#'''\n",
    "evaluation['ciiquantity_month']=ciiquantity_month"
   ]
  },
  {
   "cell_type": "code",
   "execution_count": 23,
   "metadata": {
    "collapsed": false
   },
   "outputs": [
    {
     "data": {
      "text/html": [
       "<div>\n",
       "<table border=\"1\" class=\"dataframe\">\n",
       "  <thead>\n",
       "    <tr style=\"text-align: right;\">\n",
       "      <th></th>\n",
       "      <th>product_id</th>\n",
       "      <th>product_month</th>\n",
       "      <th>ciiquantity_month</th>\n",
       "    </tr>\n",
       "  </thead>\n",
       "  <tbody>\n",
       "    <tr>\n",
       "      <th>0</th>\n",
       "      <td>1</td>\n",
       "      <td>2015-12-01</td>\n",
       "      <td>115.323700</td>\n",
       "    </tr>\n",
       "    <tr>\n",
       "      <th>1</th>\n",
       "      <td>2</td>\n",
       "      <td>2015-12-01</td>\n",
       "      <td>126.405785</td>\n",
       "    </tr>\n",
       "    <tr>\n",
       "      <th>2</th>\n",
       "      <td>3</td>\n",
       "      <td>2015-12-01</td>\n",
       "      <td>138.571869</td>\n",
       "    </tr>\n",
       "    <tr>\n",
       "      <th>3</th>\n",
       "      <td>4</td>\n",
       "      <td>2015-12-01</td>\n",
       "      <td>120.998116</td>\n",
       "    </tr>\n",
       "    <tr>\n",
       "      <th>4</th>\n",
       "      <td>5</td>\n",
       "      <td>2015-12-01</td>\n",
       "      <td>150.340668</td>\n",
       "    </tr>\n",
       "    <tr>\n",
       "      <th>5</th>\n",
       "      <td>6</td>\n",
       "      <td>2015-12-01</td>\n",
       "      <td>165.224808</td>\n",
       "    </tr>\n",
       "    <tr>\n",
       "      <th>6</th>\n",
       "      <td>7</td>\n",
       "      <td>2015-12-01</td>\n",
       "      <td>162.179916</td>\n",
       "    </tr>\n",
       "    <tr>\n",
       "      <th>7</th>\n",
       "      <td>8</td>\n",
       "      <td>2015-12-01</td>\n",
       "      <td>148.988098</td>\n",
       "    </tr>\n",
       "    <tr>\n",
       "      <th>8</th>\n",
       "      <td>9</td>\n",
       "      <td>2015-12-01</td>\n",
       "      <td>153.508804</td>\n",
       "    </tr>\n",
       "    <tr>\n",
       "      <th>9</th>\n",
       "      <td>10</td>\n",
       "      <td>2015-12-01</td>\n",
       "      <td>139.573227</td>\n",
       "    </tr>\n",
       "    <tr>\n",
       "      <th>10</th>\n",
       "      <td>11</td>\n",
       "      <td>2015-12-01</td>\n",
       "      <td>110.744133</td>\n",
       "    </tr>\n",
       "    <tr>\n",
       "      <th>11</th>\n",
       "      <td>12</td>\n",
       "      <td>2015-12-01</td>\n",
       "      <td>158.685242</td>\n",
       "    </tr>\n",
       "    <tr>\n",
       "      <th>12</th>\n",
       "      <td>13</td>\n",
       "      <td>2015-12-01</td>\n",
       "      <td>116.186150</td>\n",
       "    </tr>\n",
       "    <tr>\n",
       "      <th>13</th>\n",
       "      <td>14</td>\n",
       "      <td>2015-12-01</td>\n",
       "      <td>153.515808</td>\n",
       "    </tr>\n",
       "    <tr>\n",
       "      <th>14</th>\n",
       "      <td>15</td>\n",
       "      <td>2015-12-01</td>\n",
       "      <td>132.408737</td>\n",
       "    </tr>\n",
       "    <tr>\n",
       "      <th>15</th>\n",
       "      <td>16</td>\n",
       "      <td>2015-12-01</td>\n",
       "      <td>117.350647</td>\n",
       "    </tr>\n",
       "    <tr>\n",
       "      <th>16</th>\n",
       "      <td>17</td>\n",
       "      <td>2015-12-01</td>\n",
       "      <td>120.621994</td>\n",
       "    </tr>\n",
       "    <tr>\n",
       "      <th>17</th>\n",
       "      <td>18</td>\n",
       "      <td>2015-12-01</td>\n",
       "      <td>128.412643</td>\n",
       "    </tr>\n",
       "    <tr>\n",
       "      <th>18</th>\n",
       "      <td>19</td>\n",
       "      <td>2015-12-01</td>\n",
       "      <td>110.272537</td>\n",
       "    </tr>\n",
       "    <tr>\n",
       "      <th>19</th>\n",
       "      <td>20</td>\n",
       "      <td>2015-12-01</td>\n",
       "      <td>118.007759</td>\n",
       "    </tr>\n",
       "    <tr>\n",
       "      <th>20</th>\n",
       "      <td>21</td>\n",
       "      <td>2015-12-01</td>\n",
       "      <td>121.755539</td>\n",
       "    </tr>\n",
       "    <tr>\n",
       "      <th>21</th>\n",
       "      <td>22</td>\n",
       "      <td>2015-12-01</td>\n",
       "      <td>119.737709</td>\n",
       "    </tr>\n",
       "    <tr>\n",
       "      <th>22</th>\n",
       "      <td>23</td>\n",
       "      <td>2015-12-01</td>\n",
       "      <td>90.285309</td>\n",
       "    </tr>\n",
       "    <tr>\n",
       "      <th>23</th>\n",
       "      <td>24</td>\n",
       "      <td>2015-12-01</td>\n",
       "      <td>75.941277</td>\n",
       "    </tr>\n",
       "    <tr>\n",
       "      <th>24</th>\n",
       "      <td>25</td>\n",
       "      <td>2015-12-01</td>\n",
       "      <td>140.831177</td>\n",
       "    </tr>\n",
       "    <tr>\n",
       "      <th>25</th>\n",
       "      <td>26</td>\n",
       "      <td>2015-12-01</td>\n",
       "      <td>120.751869</td>\n",
       "    </tr>\n",
       "    <tr>\n",
       "      <th>26</th>\n",
       "      <td>27</td>\n",
       "      <td>2015-12-01</td>\n",
       "      <td>165.512070</td>\n",
       "    </tr>\n",
       "    <tr>\n",
       "      <th>27</th>\n",
       "      <td>28</td>\n",
       "      <td>2015-12-01</td>\n",
       "      <td>108.785835</td>\n",
       "    </tr>\n",
       "    <tr>\n",
       "      <th>28</th>\n",
       "      <td>29</td>\n",
       "      <td>2015-12-01</td>\n",
       "      <td>88.091583</td>\n",
       "    </tr>\n",
       "    <tr>\n",
       "      <th>29</th>\n",
       "      <td>30</td>\n",
       "      <td>2015-12-01</td>\n",
       "      <td>91.669029</td>\n",
       "    </tr>\n",
       "    <tr>\n",
       "      <th>...</th>\n",
       "      <td>...</td>\n",
       "      <td>...</td>\n",
       "      <td>...</td>\n",
       "    </tr>\n",
       "    <tr>\n",
       "      <th>55970</th>\n",
       "      <td>3971</td>\n",
       "      <td>2017-01-01</td>\n",
       "      <td>0.000000</td>\n",
       "    </tr>\n",
       "    <tr>\n",
       "      <th>55971</th>\n",
       "      <td>3972</td>\n",
       "      <td>2017-01-01</td>\n",
       "      <td>0.000000</td>\n",
       "    </tr>\n",
       "    <tr>\n",
       "      <th>55972</th>\n",
       "      <td>3973</td>\n",
       "      <td>2017-01-01</td>\n",
       "      <td>0.000000</td>\n",
       "    </tr>\n",
       "    <tr>\n",
       "      <th>55973</th>\n",
       "      <td>3974</td>\n",
       "      <td>2017-01-01</td>\n",
       "      <td>0.000000</td>\n",
       "    </tr>\n",
       "    <tr>\n",
       "      <th>55974</th>\n",
       "      <td>3975</td>\n",
       "      <td>2017-01-01</td>\n",
       "      <td>0.000000</td>\n",
       "    </tr>\n",
       "    <tr>\n",
       "      <th>55975</th>\n",
       "      <td>3976</td>\n",
       "      <td>2017-01-01</td>\n",
       "      <td>0.000000</td>\n",
       "    </tr>\n",
       "    <tr>\n",
       "      <th>55976</th>\n",
       "      <td>3977</td>\n",
       "      <td>2017-01-01</td>\n",
       "      <td>0.000000</td>\n",
       "    </tr>\n",
       "    <tr>\n",
       "      <th>55977</th>\n",
       "      <td>3978</td>\n",
       "      <td>2017-01-01</td>\n",
       "      <td>0.000000</td>\n",
       "    </tr>\n",
       "    <tr>\n",
       "      <th>55978</th>\n",
       "      <td>3979</td>\n",
       "      <td>2017-01-01</td>\n",
       "      <td>0.000000</td>\n",
       "    </tr>\n",
       "    <tr>\n",
       "      <th>55979</th>\n",
       "      <td>3980</td>\n",
       "      <td>2017-01-01</td>\n",
       "      <td>0.000000</td>\n",
       "    </tr>\n",
       "    <tr>\n",
       "      <th>55980</th>\n",
       "      <td>3981</td>\n",
       "      <td>2017-01-01</td>\n",
       "      <td>0.000000</td>\n",
       "    </tr>\n",
       "    <tr>\n",
       "      <th>55981</th>\n",
       "      <td>3982</td>\n",
       "      <td>2017-01-01</td>\n",
       "      <td>0.000000</td>\n",
       "    </tr>\n",
       "    <tr>\n",
       "      <th>55982</th>\n",
       "      <td>3983</td>\n",
       "      <td>2017-01-01</td>\n",
       "      <td>0.000000</td>\n",
       "    </tr>\n",
       "    <tr>\n",
       "      <th>55983</th>\n",
       "      <td>3984</td>\n",
       "      <td>2017-01-01</td>\n",
       "      <td>0.000000</td>\n",
       "    </tr>\n",
       "    <tr>\n",
       "      <th>55984</th>\n",
       "      <td>3985</td>\n",
       "      <td>2017-01-01</td>\n",
       "      <td>0.000000</td>\n",
       "    </tr>\n",
       "    <tr>\n",
       "      <th>55985</th>\n",
       "      <td>3986</td>\n",
       "      <td>2017-01-01</td>\n",
       "      <td>0.000000</td>\n",
       "    </tr>\n",
       "    <tr>\n",
       "      <th>55986</th>\n",
       "      <td>3987</td>\n",
       "      <td>2017-01-01</td>\n",
       "      <td>0.000000</td>\n",
       "    </tr>\n",
       "    <tr>\n",
       "      <th>55987</th>\n",
       "      <td>3988</td>\n",
       "      <td>2017-01-01</td>\n",
       "      <td>0.000000</td>\n",
       "    </tr>\n",
       "    <tr>\n",
       "      <th>55988</th>\n",
       "      <td>3989</td>\n",
       "      <td>2017-01-01</td>\n",
       "      <td>0.000000</td>\n",
       "    </tr>\n",
       "    <tr>\n",
       "      <th>55989</th>\n",
       "      <td>3990</td>\n",
       "      <td>2017-01-01</td>\n",
       "      <td>0.000000</td>\n",
       "    </tr>\n",
       "    <tr>\n",
       "      <th>55990</th>\n",
       "      <td>3991</td>\n",
       "      <td>2017-01-01</td>\n",
       "      <td>0.000000</td>\n",
       "    </tr>\n",
       "    <tr>\n",
       "      <th>55991</th>\n",
       "      <td>3992</td>\n",
       "      <td>2017-01-01</td>\n",
       "      <td>0.000000</td>\n",
       "    </tr>\n",
       "    <tr>\n",
       "      <th>55992</th>\n",
       "      <td>3993</td>\n",
       "      <td>2017-01-01</td>\n",
       "      <td>0.000000</td>\n",
       "    </tr>\n",
       "    <tr>\n",
       "      <th>55993</th>\n",
       "      <td>3994</td>\n",
       "      <td>2017-01-01</td>\n",
       "      <td>0.000000</td>\n",
       "    </tr>\n",
       "    <tr>\n",
       "      <th>55994</th>\n",
       "      <td>3995</td>\n",
       "      <td>2017-01-01</td>\n",
       "      <td>0.000000</td>\n",
       "    </tr>\n",
       "    <tr>\n",
       "      <th>55995</th>\n",
       "      <td>3996</td>\n",
       "      <td>2017-01-01</td>\n",
       "      <td>0.000000</td>\n",
       "    </tr>\n",
       "    <tr>\n",
       "      <th>55996</th>\n",
       "      <td>3997</td>\n",
       "      <td>2017-01-01</td>\n",
       "      <td>0.000000</td>\n",
       "    </tr>\n",
       "    <tr>\n",
       "      <th>55997</th>\n",
       "      <td>3998</td>\n",
       "      <td>2017-01-01</td>\n",
       "      <td>0.000000</td>\n",
       "    </tr>\n",
       "    <tr>\n",
       "      <th>55998</th>\n",
       "      <td>3999</td>\n",
       "      <td>2017-01-01</td>\n",
       "      <td>0.000000</td>\n",
       "    </tr>\n",
       "    <tr>\n",
       "      <th>55999</th>\n",
       "      <td>4000</td>\n",
       "      <td>2017-01-01</td>\n",
       "      <td>0.000000</td>\n",
       "    </tr>\n",
       "  </tbody>\n",
       "</table>\n",
       "<p>56000 rows × 3 columns</p>\n",
       "</div>"
      ],
      "text/plain": [
       "       product_id product_month  ciiquantity_month\n",
       "0               1    2015-12-01         115.323700\n",
       "1               2    2015-12-01         126.405785\n",
       "2               3    2015-12-01         138.571869\n",
       "3               4    2015-12-01         120.998116\n",
       "4               5    2015-12-01         150.340668\n",
       "5               6    2015-12-01         165.224808\n",
       "6               7    2015-12-01         162.179916\n",
       "7               8    2015-12-01         148.988098\n",
       "8               9    2015-12-01         153.508804\n",
       "9              10    2015-12-01         139.573227\n",
       "10             11    2015-12-01         110.744133\n",
       "11             12    2015-12-01         158.685242\n",
       "12             13    2015-12-01         116.186150\n",
       "13             14    2015-12-01         153.515808\n",
       "14             15    2015-12-01         132.408737\n",
       "15             16    2015-12-01         117.350647\n",
       "16             17    2015-12-01         120.621994\n",
       "17             18    2015-12-01         128.412643\n",
       "18             19    2015-12-01         110.272537\n",
       "19             20    2015-12-01         118.007759\n",
       "20             21    2015-12-01         121.755539\n",
       "21             22    2015-12-01         119.737709\n",
       "22             23    2015-12-01          90.285309\n",
       "23             24    2015-12-01          75.941277\n",
       "24             25    2015-12-01         140.831177\n",
       "25             26    2015-12-01         120.751869\n",
       "26             27    2015-12-01         165.512070\n",
       "27             28    2015-12-01         108.785835\n",
       "28             29    2015-12-01          88.091583\n",
       "29             30    2015-12-01          91.669029\n",
       "...           ...           ...                ...\n",
       "55970        3971    2017-01-01           0.000000\n",
       "55971        3972    2017-01-01           0.000000\n",
       "55972        3973    2017-01-01           0.000000\n",
       "55973        3974    2017-01-01           0.000000\n",
       "55974        3975    2017-01-01           0.000000\n",
       "55975        3976    2017-01-01           0.000000\n",
       "55976        3977    2017-01-01           0.000000\n",
       "55977        3978    2017-01-01           0.000000\n",
       "55978        3979    2017-01-01           0.000000\n",
       "55979        3980    2017-01-01           0.000000\n",
       "55980        3981    2017-01-01           0.000000\n",
       "55981        3982    2017-01-01           0.000000\n",
       "55982        3983    2017-01-01           0.000000\n",
       "55983        3984    2017-01-01           0.000000\n",
       "55984        3985    2017-01-01           0.000000\n",
       "55985        3986    2017-01-01           0.000000\n",
       "55986        3987    2017-01-01           0.000000\n",
       "55987        3988    2017-01-01           0.000000\n",
       "55988        3989    2017-01-01           0.000000\n",
       "55989        3990    2017-01-01           0.000000\n",
       "55990        3991    2017-01-01           0.000000\n",
       "55991        3992    2017-01-01           0.000000\n",
       "55992        3993    2017-01-01           0.000000\n",
       "55993        3994    2017-01-01           0.000000\n",
       "55994        3995    2017-01-01           0.000000\n",
       "55995        3996    2017-01-01           0.000000\n",
       "55996        3997    2017-01-01           0.000000\n",
       "55997        3998    2017-01-01           0.000000\n",
       "55998        3999    2017-01-01           0.000000\n",
       "55999        4000    2017-01-01           0.000000\n",
       "\n",
       "[56000 rows x 3 columns]"
      ]
     },
     "execution_count": 23,
     "metadata": {},
     "output_type": "execute_result"
    }
   ],
   "source": [
    "evaluation"
   ]
  },
  {
   "cell_type": "code",
   "execution_count": null,
   "metadata": {
    "collapsed": true
   },
   "outputs": [],
   "source": []
  }
 ],
 "metadata": {
  "kernelspec": {
   "display_name": "Python [conda env:dl]",
   "language": "python",
   "name": "conda-env-dl-py"
  },
  "language_info": {
   "codemirror_mode": {
    "name": "ipython",
    "version": 3
   },
   "file_extension": ".py",
   "mimetype": "text/x-python",
   "name": "python",
   "nbconvert_exporter": "python",
   "pygments_lexer": "ipython3",
   "version": "3.5.2"
  }
 },
 "nbformat": 4,
 "nbformat_minor": 2
}
